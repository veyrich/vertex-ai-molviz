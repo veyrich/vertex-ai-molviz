{
 "cells": [
  {
   "cell_type": "code",
   "execution_count": 1,
   "id": "80d45944-7b46-4487-a6da-acf08e4f7f35",
   "metadata": {},
   "outputs": [
    {
     "data": {
      "application/3dmoljs_load.v0": "<div id=\"3dmolviewer_16823704886354957\"  style=\"position: relative; width: 500px; height: 500px\">\n        <p id=\"3dmolwarning_16823704886354957\" style=\"background-color:#ffcccc;color:black\">You appear to be running in JupyterLab (or JavaScript failed to load for some other reason).  You need to install the 3dmol extension: <br>\n        <tt>jupyter labextension install jupyterlab_3dmol</tt></p>\n        </div>\n<script>\n\nvar loadScriptAsync = function(uri){\n  return new Promise((resolve, reject) => {\n    //this is to ignore the existence of requirejs amd\n    var savedexports, savedmodule;\n    if (typeof exports !== 'undefined') savedexports = exports;\n    else exports = {}\n    if (typeof module !== 'undefined') savedmodule = module;\n    else module = {}\n\n    var tag = document.createElement('script');\n    tag.src = uri;\n    tag.async = true;\n    tag.onload = () => {\n        exports = savedexports;\n        module = savedmodule;\n        resolve();\n    };\n  var firstScriptTag = document.getElementsByTagName('script')[0];\n  firstScriptTag.parentNode.insertBefore(tag, firstScriptTag);\n});\n};\n\nif(typeof $3Dmolpromise === 'undefined') {\n$3Dmolpromise = null;\n  $3Dmolpromise = loadScriptAsync('https://cdnjs.cloudflare.com/ajax/libs/3Dmol/2.0.1/3Dmol-min.js');\n}\n\nvar viewer_16823704886354957 = null;\nvar warn = document.getElementById(\"3dmolwarning_16823704886354957\");\nif(warn) {\n    warn.parentNode.removeChild(warn);\n}\n$3Dmolpromise.then(function() {\nviewer_16823704886354957 = $3Dmol.createViewer(document.getElementById(\"3dmolviewer_16823704886354957\"),{backgroundColor:\"white\"});\nviewer_16823704886354957.zoomTo();\n\tviewer_16823704886354957.addModel(\"\\n     RDKit          3D\\n\\n 21 21  0  0  0  0  0  0  0  0999 V2000\\n   -2.1216    0.0773   -0.9789 O   0  0  0  0  0  0  0  0  0  0  0  0\\n   -1.8605   -0.8326   -0.2145 C   0  0  0  0  0  0  0  0  0  0  0  0\\n   -2.6888   -2.1069   -0.1423 C   0  0  0  0  0  0  0  0  0  0  0  0\\n   -0.8071   -0.8124    0.7053 O   0  0  0  0  0  0  0  0  0  0  0  0\\n    0.0652    0.2934    0.5729 C   0  0  0  0  0  0  0  0  0  0  0  0\\n   -0.1081    1.3674    1.4302 C   0  0  0  0  0  0  0  0  0  0  0  0\\n    0.7718    2.4458    1.3775 C   0  0  0  0  0  0  0  0  0  0  0  0\\n    1.8388    2.4437    0.4820 C   0  0  0  0  0  0  0  0  0  0  0  0\\n    2.0218    1.3521   -0.3562 C   0  0  0  0  0  0  0  0  0  0  0  0\\n    1.1394    0.2608   -0.3139 C   0  0  0  0  0  0  0  0  0  0  0  0\\n    1.4232   -0.8930   -1.2024 C   0  0  0  0  0  0  0  0  0  0  0  0\\n    2.3512   -0.9418   -1.9780 O   0  0  0  0  0  0  0  0  0  0  0  0\\n    0.5900   -1.9546   -1.0559 O   0  0  0  0  0  0  0  0  0  0  0  0\\n   -3.3987   -2.0660    0.6967 H   0  0  0  0  0  0  0  0  0  0  0  0\\n   -3.2472   -2.2039   -1.0934 H   0  0  0  0  0  0  0  0  0  0  0  0\\n   -2.0286   -2.9737   -0.0219 H   0  0  0  0  0  0  0  0  0  0  0  0\\n   -0.9407    1.3678    2.1304 H   0  0  0  0  0  0  0  0  0  0  0  0\\n    0.6208    3.2882    2.0281 H   0  0  0  0  0  0  0  0  0  0  0  0\\n    2.5201    3.2828    0.4537 H   0  0  0  0  0  0  0  0  0  0  0  0\\n    2.8616    1.3469   -1.0437 H   0  0  0  0  0  0  0  0  0  0  0  0\\n    0.9972   -2.7414   -1.4757 H   0  0  0  0  0  0  0  0  0  0  0  0\\n  1  2  2  0\\n  2  3  1  0\\n  2  4  1  0\\n  4  5  1  0\\n  5  6  2  0\\n  6  7  1  0\\n  7  8  2  0\\n  8  9  1  0\\n  9 10  2  0\\n 10 11  1  0\\n 11 12  2  0\\n 11 13  1  0\\n 10  5  1  0\\n  3 14  1  0\\n  3 15  1  0\\n  3 16  1  0\\n  6 17  1  0\\n  7 18  1  0\\n  8 19  1  0\\n  9 20  1  0\\n 13 21  1  0\\nM  END\\n\",\"mol\");\n\tviewer_16823704886354957.setStyle({\"stick\": {}});\n\tviewer_16823704886354957.zoomTo();\nviewer_16823704886354957.render();\n});\n</script>",
      "text/html": [
       "<div id=\"3dmolviewer_16823704886354957\"  style=\"position: relative; width: 500px; height: 500px\">\n",
       "        <p id=\"3dmolwarning_16823704886354957\" style=\"background-color:#ffcccc;color:black\">You appear to be running in JupyterLab (or JavaScript failed to load for some other reason).  You need to install the 3dmol extension: <br>\n",
       "        <tt>jupyter labextension install jupyterlab_3dmol</tt></p>\n",
       "        </div>\n",
       "<script>\n",
       "\n",
       "var loadScriptAsync = function(uri){\n",
       "  return new Promise((resolve, reject) => {\n",
       "    //this is to ignore the existence of requirejs amd\n",
       "    var savedexports, savedmodule;\n",
       "    if (typeof exports !== 'undefined') savedexports = exports;\n",
       "    else exports = {}\n",
       "    if (typeof module !== 'undefined') savedmodule = module;\n",
       "    else module = {}\n",
       "\n",
       "    var tag = document.createElement('script');\n",
       "    tag.src = uri;\n",
       "    tag.async = true;\n",
       "    tag.onload = () => {\n",
       "        exports = savedexports;\n",
       "        module = savedmodule;\n",
       "        resolve();\n",
       "    };\n",
       "  var firstScriptTag = document.getElementsByTagName('script')[0];\n",
       "  firstScriptTag.parentNode.insertBefore(tag, firstScriptTag);\n",
       "});\n",
       "};\n",
       "\n",
       "if(typeof $3Dmolpromise === 'undefined') {\n",
       "$3Dmolpromise = null;\n",
       "  $3Dmolpromise = loadScriptAsync('https://cdnjs.cloudflare.com/ajax/libs/3Dmol/2.0.1/3Dmol-min.js');\n",
       "}\n",
       "\n",
       "var viewer_16823704886354957 = null;\n",
       "var warn = document.getElementById(\"3dmolwarning_16823704886354957\");\n",
       "if(warn) {\n",
       "    warn.parentNode.removeChild(warn);\n",
       "}\n",
       "$3Dmolpromise.then(function() {\n",
       "viewer_16823704886354957 = $3Dmol.createViewer(document.getElementById(\"3dmolviewer_16823704886354957\"),{backgroundColor:\"white\"});\n",
       "viewer_16823704886354957.zoomTo();\n",
       "\tviewer_16823704886354957.addModel(\"\\n     RDKit          3D\\n\\n 21 21  0  0  0  0  0  0  0  0999 V2000\\n   -2.1216    0.0773   -0.9789 O   0  0  0  0  0  0  0  0  0  0  0  0\\n   -1.8605   -0.8326   -0.2145 C   0  0  0  0  0  0  0  0  0  0  0  0\\n   -2.6888   -2.1069   -0.1423 C   0  0  0  0  0  0  0  0  0  0  0  0\\n   -0.8071   -0.8124    0.7053 O   0  0  0  0  0  0  0  0  0  0  0  0\\n    0.0652    0.2934    0.5729 C   0  0  0  0  0  0  0  0  0  0  0  0\\n   -0.1081    1.3674    1.4302 C   0  0  0  0  0  0  0  0  0  0  0  0\\n    0.7718    2.4458    1.3775 C   0  0  0  0  0  0  0  0  0  0  0  0\\n    1.8388    2.4437    0.4820 C   0  0  0  0  0  0  0  0  0  0  0  0\\n    2.0218    1.3521   -0.3562 C   0  0  0  0  0  0  0  0  0  0  0  0\\n    1.1394    0.2608   -0.3139 C   0  0  0  0  0  0  0  0  0  0  0  0\\n    1.4232   -0.8930   -1.2024 C   0  0  0  0  0  0  0  0  0  0  0  0\\n    2.3512   -0.9418   -1.9780 O   0  0  0  0  0  0  0  0  0  0  0  0\\n    0.5900   -1.9546   -1.0559 O   0  0  0  0  0  0  0  0  0  0  0  0\\n   -3.3987   -2.0660    0.6967 H   0  0  0  0  0  0  0  0  0  0  0  0\\n   -3.2472   -2.2039   -1.0934 H   0  0  0  0  0  0  0  0  0  0  0  0\\n   -2.0286   -2.9737   -0.0219 H   0  0  0  0  0  0  0  0  0  0  0  0\\n   -0.9407    1.3678    2.1304 H   0  0  0  0  0  0  0  0  0  0  0  0\\n    0.6208    3.2882    2.0281 H   0  0  0  0  0  0  0  0  0  0  0  0\\n    2.5201    3.2828    0.4537 H   0  0  0  0  0  0  0  0  0  0  0  0\\n    2.8616    1.3469   -1.0437 H   0  0  0  0  0  0  0  0  0  0  0  0\\n    0.9972   -2.7414   -1.4757 H   0  0  0  0  0  0  0  0  0  0  0  0\\n  1  2  2  0\\n  2  3  1  0\\n  2  4  1  0\\n  4  5  1  0\\n  5  6  2  0\\n  6  7  1  0\\n  7  8  2  0\\n  8  9  1  0\\n  9 10  2  0\\n 10 11  1  0\\n 11 12  2  0\\n 11 13  1  0\\n 10  5  1  0\\n  3 14  1  0\\n  3 15  1  0\\n  3 16  1  0\\n  6 17  1  0\\n  7 18  1  0\\n  8 19  1  0\\n  9 20  1  0\\n 13 21  1  0\\nM  END\\n\",\"mol\");\n",
       "\tviewer_16823704886354957.setStyle({\"stick\": {}});\n",
       "\tviewer_16823704886354957.zoomTo();\n",
       "viewer_16823704886354957.render();\n",
       "});\n",
       "</script>"
      ]
     },
     "metadata": {},
     "output_type": "display_data"
    }
   ],
   "source": [
    "from rdkit import Chem                                                                                                                        \n",
    "from rdkit.Chem import AllChem                                                                                                                \n",
    "import py3Dmol      \n",
    "\n",
    "#aspirin\n",
    "smi = \"O=C(C)Oc1ccccc1C(=O)O\"\n",
    "m = Chem.MolFromSmiles(smi)\n",
    "mwh = Chem.AddHs(m)\n",
    "AllChem.EmbedMolecule(mwh)\n",
    "AllChem.MMFFOptimizeMolecule(mwh, maxIters=10)\n",
    "mwh_as_mol = Chem.MolToMolBlock(mwh)\n",
    "\n",
    "view3d = py3Dmol.view(width=500, height=500)\n",
    "view3d.addModel(mwh_as_mol, 'mol')\n",
    "view3d.setStyle({'stick':{}})\n",
    "view3d.zoomTo()\n",
    "view3d.show()\n"
   ]
  }
 ],
 "metadata": {
  "environment": {
   "kernel": "python3",
   "name": "common-cpu.m107",
   "type": "gcloud",
   "uri": "gcr.io/deeplearning-platform-release/base-cpu:m107"
  },
  "kernelspec": {
   "display_name": "Python 3",
   "language": "python",
   "name": "python3"
  },
  "language_info": {
   "codemirror_mode": {
    "name": "ipython",
    "version": 3
   },
   "file_extension": ".py",
   "mimetype": "text/x-python",
   "name": "python",
   "nbconvert_exporter": "python",
   "pygments_lexer": "ipython3",
   "version": "3.7.12"
  }
 },
 "nbformat": 4,
 "nbformat_minor": 5
}
